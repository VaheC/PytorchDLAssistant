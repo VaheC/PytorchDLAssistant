{
 "cells": [
  {
   "cell_type": "code",
   "execution_count": 29,
   "metadata": {},
   "outputs": [],
   "source": [
    "import numpy as np\n",
    "\n",
    "import torch\n",
    "import torch.nn as nn\n",
    "import torch.optim as optim\n",
    "import torch.nn.functional as F\n",
    "from torch.utils.data import Dataset, TensorDataset, DataLoader, random_split\n",
    "# from torch.utils.data.dataset import random_split\n",
    "from torch.utils.tensorboard import SummaryWriter\n",
    "\n",
    "from tqdm.auto import tqdm\n",
    "from datetime import datetime as dt\n",
    "import os\n",
    "\n",
    "import matplotlib.pyplot as plt\n",
    "plt.style.use('fivethirtyeight')"
   ]
  },
  {
   "cell_type": "code",
   "execution_count": 8,
   "metadata": {},
   "outputs": [
    {
     "name": "stdout",
     "output_type": "stream",
     "text": [
      "(1000, 5) (1000, 1)\n"
     ]
    }
   ],
   "source": [
    "# Setting the data for testing\n",
    "\n",
    "np.random.seed(42)\n",
    "X = np.random.randn(1000, 5)\n",
    "\n",
    "a = np.array([0.2, 0.1, 0.4, -0.7, 0.03]).reshape(-1, 1)\n",
    "b = -0.9\n",
    "y = b + X @ a\n",
    "\n",
    "print(X.shape, y.shape)"
   ]
  },
  {
   "cell_type": "markdown",
   "metadata": {},
   "source": [
    "# Data configuration"
   ]
  },
  {
   "cell_type": "code",
   "execution_count": 13,
   "metadata": {},
   "outputs": [
    {
     "name": "stdout",
     "output_type": "stream",
     "text": [
      "Writing data_config/data_prep.py\n"
     ]
    }
   ],
   "source": [
    "%%writefile data_config/data_prep.py\n",
    "\n",
    "np.random.seed(42)\n",
    "X = np.random.randn(1000, 5)\n",
    "\n",
    "a = np.array([0.2, 0.1, 0.4, -0.7, 0.03]).reshape(-1, 1)\n",
    "b = -0.9\n",
    "y = b + X @ a\n",
    "\n",
    "X_tensor = torch.as_tensor(X).float()\n",
    "y_tensor = torch.as_tensor(y).float()\n",
    "\n",
    "dataset = TensorDataset(X_tensor, y_tensor)\n",
    "\n",
    "train_size = int(X.shape[0] * 0.8)\n",
    "valid_size = X.shape[0] - train_size\n",
    "\n",
    "train_data, valid_data = random_split(dataset, [train_size, valid_size])\n",
    "\n",
    "train_loader = DataLoader(\n",
    "    dataset=train_data,\n",
    "    batch_size=32,\n",
    "    shuffle=True\n",
    ")\n",
    "\n",
    "valid_loader = DataLoader(\n",
    "    dataset=valid_data,\n",
    "    batch_size=32\n",
    ")"
   ]
  },
  {
   "cell_type": "markdown",
   "metadata": {},
   "source": [
    "# Model configuration"
   ]
  },
  {
   "cell_type": "code",
   "execution_count": 16,
   "metadata": {},
   "outputs": [
    {
     "name": "stdout",
     "output_type": "stream",
     "text": [
      "The tensorboard extension is already loaded. To reload it, use:\n",
      "  %reload_ext tensorboard\n"
     ]
    },
    {
     "data": {
      "text/html": [
       "\n",
       "      <iframe id=\"tensorboard-frame-c01c3be7395062ec\" width=\"100%\" height=\"800\" frameborder=\"0\">\n",
       "      </iframe>\n",
       "      <script>\n",
       "        (function() {\n",
       "          const frame = document.getElementById(\"tensorboard-frame-c01c3be7395062ec\");\n",
       "          const url = new URL(\"/\", window.location);\n",
       "          const port = 6006;\n",
       "          if (port) {\n",
       "            url.port = port;\n",
       "          }\n",
       "          frame.src = url;\n",
       "        })();\n",
       "      </script>\n",
       "    "
      ],
      "text/plain": [
       "<IPython.core.display.HTML object>"
      ]
     },
     "metadata": {},
     "output_type": "display_data"
    }
   ],
   "source": [
    "%load_ext tensorboard\n",
    "%tensorboard --logdir summary"
   ]
  },
  {
   "cell_type": "code",
   "execution_count": 17,
   "metadata": {},
   "outputs": [
    {
     "name": "stdout",
     "output_type": "stream",
     "text": [
      "Writing model_config/model_setting.py\n"
     ]
    }
   ],
   "source": [
    "%%writefile model_config/model_setting.py\n",
    "\n",
    "def create_train_step_fn(model, loss_fn, optimizer):\n",
    "    def output_train_step_loss(X, y):\n",
    "        model.train()\n",
    "        y_hat = model(X)\n",
    "        loss = loss_fn(y_hat, y)\n",
    "        loss.backward()\n",
    "        optimizer.step()\n",
    "        optimizer.zero_grad()\n",
    "        return loss.item()\n",
    "    return output_train_step_loss\n",
    "\n",
    "def create_valid_step_fn(model, loss_fn):\n",
    "    def output_valid_step_loss(X, y):\n",
    "        model.eval()\n",
    "        y_hat = model(X)\n",
    "        loss = loss_fn(y_hat, y)\n",
    "        return loss.item()\n",
    "    return output_valid_step_loss\n",
    "\n",
    "def get_mini_batch_loss(device, data_loader, step_fn):\n",
    "    mini_batch_losses = []\n",
    "    for X_batch, y_batch in data_loader:\n",
    "        X_batch = X_batch.to(device)\n",
    "        y_batch = y_batch.to(device)\n",
    "        batch_loss = step_fn(X_batch, y_batch)\n",
    "        mini_batch_losses.append(batch_loss)\n",
    "    \n",
    "    return np.mean(mini_batch_losses)\n",
    "\n",
    "lr = 0.01\n",
    "\n",
    "torch.manual_seed(13)\n",
    "\n",
    "device = 'cuda' if torch.cuda.is_available() else 'cpu'\n",
    "\n",
    "model = nn.Sequential(nn.Linear(5, 1)).to(device)\n",
    "\n",
    "loss_fn = nn.MSELoss(reduction='mean')\n",
    "\n",
    "optimizer = optim.SGD(model.parameters(), lr=lr)\n",
    "\n",
    "train_step_fn = create_train_step_fn(model, loss_fn, optimizer)\n",
    "valid_step_fn = create_valid_step_fn(model, loss_fn)\n",
    "\n",
    "tensorboard_writer = SummaryWriter('summary/simple_linear_reg')"
   ]
  },
  {
   "cell_type": "markdown",
   "metadata": {},
   "source": [
    "# Model training"
   ]
  },
  {
   "cell_type": "code",
   "execution_count": 18,
   "metadata": {},
   "outputs": [
    {
     "name": "stdout",
     "output_type": "stream",
     "text": [
      "Writing model/train.py\n"
     ]
    }
   ],
   "source": [
    "%%writefile model/train.py\n",
    "\n",
    "n_epochs = 100\n",
    "\n",
    "train_losses = []\n",
    "valid_losses = []\n",
    "\n",
    "for epoch in range(n_epochs):\n",
    "    train_loss = get_mini_batch_loss(device=device, data_loader=train_loader, step_fn=train_step_fn)\n",
    "    train_losses.append(train_loss)\n",
    "\n",
    "    with torch.no_grad():\n",
    "        valid_loss = get_mini_batch_loss(device=device, data_loader=valid_loader, step_fn=valid_step_fn)\n",
    "        valid_losses.append(valid_loss)\n",
    "\n",
    "    tensorboard_writer.add_scalars(\n",
    "        main_tag = 'losses',\n",
    "        tag_scalar_dict = {\n",
    "            'train': train_loss,\n",
    "            'validation': valid_loss\n",
    "        },\n",
    "        global_step = epoch\n",
    "    )\n",
    "\n",
    "tensorboard_writer.close()"
   ]
  },
  {
   "cell_type": "code",
   "execution_count": 19,
   "metadata": {},
   "outputs": [],
   "source": [
    "%run -i data_config/data_prep.py\n",
    "%run -i model_config/model_setting.py\n",
    "%run -i model/train.py"
   ]
  },
  {
   "cell_type": "code",
   "execution_count": 20,
   "metadata": {},
   "outputs": [
    {
     "data": {
      "text/plain": [
       "OrderedDict([('0.weight',\n",
       "              tensor([[ 0.2000,  0.1000,  0.4000, -0.7000,  0.0300]], device='cuda:0')),\n",
       "             ('0.bias', tensor([-0.9000], device='cuda:0'))])"
      ]
     },
     "execution_count": 20,
     "metadata": {},
     "output_type": "execute_result"
    }
   ],
   "source": [
    "model.state_dict()"
   ]
  },
  {
   "cell_type": "markdown",
   "metadata": {},
   "source": [
    "# DLAssistant class creation"
   ]
  },
  {
   "cell_type": "code",
   "execution_count": 50,
   "metadata": {},
   "outputs": [
    {
     "name": "stdout",
     "output_type": "stream",
     "text": [
      "Overwriting assistent/model.py\n"
     ]
    }
   ],
   "source": [
    "%%writefile assistent/model.py\n",
    "class DLAssistant(object):\n",
    "    \n",
    "    def __init__(self, model, loss_fn, optimizer):\n",
    "\n",
    "        self.model = model\n",
    "        self.device = 'cuda' if torch.cuda.is_available() else 'cpu'\n",
    "        self.model = self.model.to(self.device)\n",
    "\n",
    "        self.loss_fn = loss_fn\n",
    "        self.optimizer = optimizer\n",
    "\n",
    "        self.train_loader = None\n",
    "        self.valid_loader = None\n",
    "        self.tensorboard_writer = None\n",
    "\n",
    "        self.train_losses = []\n",
    "        self.valid_losses = []\n",
    "        self.total_epochs = 0\n",
    "\n",
    "        self.train_step_fn = self._create_train_step_fn()\n",
    "        self.valid_step_fn = self._create_valid_step_fn()\n",
    "\n",
    "    def to(self, device):\n",
    "\n",
    "        try:\n",
    "            self.model = self.model.to(device)\n",
    "            self.device = device\n",
    "        except RuntimeError:\n",
    "            self.device = 'cuda' if torch.cuda.is_available() else 'cpu'\n",
    "            self.model = self.model.to(self.device)\n",
    "            print(f\"{device} device is not accessable!!!\\n{self.device} is used!!!\")\n",
    "\n",
    "    def set_loaders(self, train_loader, valid_loader=None):\n",
    "        self.train_loader = train_loader\n",
    "        self.valid_loader = valid_loader\n",
    "\n",
    "    def set_tensorboard(self, name, log_dir='summary'):\n",
    "        \n",
    "        if not os.path.exists(log_dir):\n",
    "            os.mkdir(log_dir)\n",
    "\n",
    "        name_suffix = dt.now().strftime('%Y%m%d_%H%M%S')\n",
    "        full_name = f\"{log_dir}/{name}_{name_suffix}\"\n",
    "        self.tensorboard_writer = SummaryWriter(full_name)\n",
    "\n",
    "    def _create_train_step_fn(self):\n",
    "\n",
    "        def get_train_loss(X, y):\n",
    "            self.model.train()\n",
    "            y_hat = self.model(X)\n",
    "            loss = self.loss_fn(y_hat, y)\n",
    "            loss.backward()\n",
    "            self.optimizer.step()\n",
    "            self.optimizer.zero_grad()\n",
    "            return loss.item()\n",
    "        \n",
    "        return get_train_loss\n",
    "    \n",
    "    def _create_valid_step_fn(self):\n",
    "        \n",
    "        def get_valid_loss(X, y):\n",
    "            self.model.eval()\n",
    "            y_hat = self.model(X)\n",
    "            loss = self.loss_fn(y_hat, y)\n",
    "            return loss.item()\n",
    "        \n",
    "        return get_valid_loss\n",
    "    \n",
    "    def _get_mini_batch_loss(self, validation=False):\n",
    "\n",
    "        if validation:\n",
    "            data_loader = self.valid_loader\n",
    "            step_fn = self.valid_step_fn\n",
    "        else:\n",
    "            data_loader = self.train_loader\n",
    "            step_fn = self.train_step_fn\n",
    "\n",
    "        if data_loader is None:\n",
    "            return None\n",
    "\n",
    "        mini_batch_losses = []\n",
    "\n",
    "        for X_batch, y_batch in data_loader:\n",
    "            X_batch = X_batch.to(self.device)\n",
    "            y_batch = y_batch.to(self.device)\n",
    "            mini_batch_loss = step_fn(X_batch, y_batch)\n",
    "            mini_batch_losses.append(mini_batch_loss)\n",
    "\n",
    "        return np.mean(mini_batch_losses)\n",
    "    \n",
    "    def set_seed(self, seed=42):\n",
    "        torch.backends.cudnn.deterministic = True\n",
    "        torch.backends.cudnn.benchmark = False\n",
    "        torch.manual_seed(seed)\n",
    "        np.random.seed(seed)\n",
    "    \n",
    "    def train(self, n_epochs, seed=42):\n",
    "\n",
    "        self.total_epochs += 1\n",
    "\n",
    "        self.set_seed(seed)\n",
    "\n",
    "        for epoch in tqdm(range(n_epochs)):\n",
    "\n",
    "            train_loss = self._get_mini_batch_loss()\n",
    "            self.train_losses.append(train_loss)\n",
    "\n",
    "            with torch.no_grad():\n",
    "                valid_loss = self._get_mini_batch_loss(validation=True)\n",
    "                self.valid_losses.append(valid_loss)\n",
    "\n",
    "            if self.tensorboard_writer is not None:\n",
    "                scalar_dict = {'train': train_loss}\n",
    "                if self.valid_loader is not None:\n",
    "                    scalar_dict.update({'validation': valid_loss})\n",
    "                self.tensorboard_writer.add_scalars(\n",
    "                    main_tag = 'losses',\n",
    "                    tag_scalar_dict = scalar_dict,\n",
    "                    global_step = epoch\n",
    "                )\n",
    "\n",
    "        if self.tensorboard_writer is not None:\n",
    "            self.tensorboard_writer.flush()\n",
    "\n",
    "    def show_losses(self):\n",
    "        fig = plt.figure(figsize=(10, 4))\n",
    "        plt.plot(self.train_losses, label='train', c='blue')\n",
    "        if self.valid_loader is not None:\n",
    "            plt.plot(self.valid_losses, label='valid', c='orange')\n",
    "        plt.yscale('log')\n",
    "        plt.xlabel('epoch')\n",
    "        plt.ylabel('Loss')\n",
    "        plt.legend()\n",
    "        plt.show()\n",
    "        return fig\n",
    "    \n",
    "    def save_results(self, filepath):\n",
    "        checkpoint_dict = {\n",
    "            'model_state_dict': self.model.state_dict(),\n",
    "            'optimizer_state_dict': self.optimizer.state_dict(),\n",
    "            'total_epochs': self.total_epochs,\n",
    "            'train_losses': self.train_losses,\n",
    "            'valid_losses': self.valid_losses\n",
    "        }\n",
    "        torch.save(checkpoint_dict, filepath)\n",
    "\n",
    "    def load_states(self, filepath):\n",
    "        checkpoint_dict = torch.load(filepath)\n",
    "        self.model.load_state_dict(checkpoint_dict['model_state_dict'])\n",
    "        self.optimizer.load_state_dict(checkpoint_dict['optimizer_state_dict'])\n",
    "        self.total_epochs = checkpoint_dict['total_epochs']\n",
    "        self.train_losses = checkpoint_dict['train_losses']\n",
    "        self.valid_losses = checkpoint_dict['valid_losses']\n",
    "\n",
    "        self.model.train()\n",
    "\n",
    "    def predict(self, X):\n",
    "        self.model.eval()\n",
    "        X_tensor = torch.as_tensor(X).float()\n",
    "        X_tensor = X_tensor.to(self.device)\n",
    "        pred_y = self.model(X_tensor).detach().cpu().numpy()\n",
    "        self.model.train()\n",
    "        return pred_y"
   ]
  },
  {
   "cell_type": "code",
   "execution_count": 51,
   "metadata": {},
   "outputs": [
    {
     "data": {
      "application/vnd.jupyter.widget-view+json": {
       "model_id": "0690927c13034600aed1dc0bfab0cf6a",
       "version_major": 2,
       "version_minor": 0
      },
      "text/plain": [
       "  0%|          | 0/100 [00:00<?, ?it/s]"
      ]
     },
     "metadata": {},
     "output_type": "display_data"
    }
   ],
   "source": [
    "%run -i data_config/data_prep.py\n",
    "%run -i model_config/model_setting.py\n",
    "%run -i assistent/model.py\n",
    "\n",
    "dl_assistent = DLAssistant(model, loss_fn, optimizer)\n",
    "dl_assistent.set_loaders(train_loader, valid_loader)\n",
    "dl_assistent.set_tensorboard(name='class_linear_reg')\n",
    "dl_assistent.train(n_epochs=100)"
   ]
  },
  {
   "cell_type": "code",
   "execution_count": 52,
   "metadata": {},
   "outputs": [
    {
     "data": {
      "image/png": "[encoded data removed]",
      "text/plain": [
       "<Figure size 1000x400 with 1 Axes>"
      ]
     },
     "metadata": {},
     "output_type": "display_data"
    }
   ],
   "source": [
    "loss_fig = dl_assistent.show_losses();"
   ]
  },
  {
   "cell_type": "code",
   "execution_count": 53,
   "metadata": {},
   "outputs": [
    {
     "data": {
      "text/plain": [
       "OrderedDict([('0.weight',\n",
       "              tensor([[ 0.2000,  0.1000,  0.4000, -0.7000,  0.0300]], device='cuda:0')),\n",
       "             ('0.bias', tensor([-0.9000], device='cuda:0'))])"
      ]
     },
     "execution_count": 53,
     "metadata": {},
     "output_type": "execute_result"
    }
   ],
   "source": [
    "dl_assistent.model.state_dict()"
   ]
  },
  {
   "cell_type": "code",
   "execution_count": 54,
   "metadata": {},
   "outputs": [],
   "source": [
    "dl_assistent.save_results('checkpoint.pth')"
   ]
  },
  {
   "cell_type": "code",
   "execution_count": 55,
   "metadata": {},
   "outputs": [],
   "source": [
    "dl_assistent.load_states('checkpoint.pth')"
   ]
  },
  {
   "cell_type": "code",
   "execution_count": 59,
   "metadata": {},
   "outputs": [
    {
     "data": {
      "text/plain": [
       "array([[-1.5417023 ],\n",
       "       [-1.1239675 ],\n",
       "       [-0.59521425],\n",
       "       [-0.5070373 ],\n",
       "       [-1.8620882 ]], dtype=float32)"
      ]
     },
     "execution_count": 59,
     "metadata": {},
     "output_type": "execute_result"
    }
   ],
   "source": [
    "X_test = np.random.randn(5, 5)\n",
    "\n",
    "model_pred = dl_assistent.predict(X_test)\n",
    "model_pred"
   ]
  },
  {
   "cell_type": "code",
   "execution_count": null,
   "metadata": {},
   "outputs": [],
   "source": []
  }
 ],
 "metadata": {
  "kernelspec": {
   "display_name": "pytorch",
   "language": "python",
   "name": "python3"
  },
  "language_info": {
   "codemirror_mode": {
    "name": "ipython",
    "version": 3
   },
   "file_extension": ".py",
   "mimetype": "text/x-python",
   "name": "python",
   "nbconvert_exporter": "python",
   "pygments_lexer": "ipython3",
   "version": "3.10.12"
  }
 },
 "nbformat": 4,
 "nbformat_minor": 2
}
